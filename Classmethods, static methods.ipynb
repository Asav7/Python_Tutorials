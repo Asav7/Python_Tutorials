{
 "cells": [
  {
   "cell_type": "markdown",
   "metadata": {},
   "source": [
    "# Classmethod"
   ]
  },
  {
   "cell_type": "code",
   "execution_count": 25,
   "metadata": {
    "collapsed": true
   },
   "outputs": [],
   "source": [
    "class Person(object):\n",
    "    person_id = 0\n",
    "    \n",
    "    def __init__(self, name, age):\n",
    "        self.name = name\n",
    "        self.age = age\n",
    "        self._id = self.person_id\n",
    "        Person.update_id()\n",
    "        \n",
    "    @classmethod\n",
    "    def update_id(cls):\n",
    "        cls.person_id += 1\n",
    "    \n",
    "    def __repr__(self):\n",
    "        return 'Name: {0}, Age: {1}, Id: {2}'.format(self.name, self.age, self._id)\n",
    "    \n",
    "john = Person('John', 40)\n",
    "ann = Person('Ann', 29)"
   ]
  },
  {
   "cell_type": "code",
   "execution_count": 26,
   "metadata": {
    "collapsed": false
   },
   "outputs": [
    {
     "name": "stdout",
     "output_type": "stream",
     "text": [
      "0\n"
     ]
    },
    {
     "data": {
      "text/plain": [
       "1"
      ]
     },
     "execution_count": 26,
     "metadata": {},
     "output_type": "execute_result"
    }
   ],
   "source": [
    "print(john._id)\n",
    "ann._id"
   ]
  },
  {
   "cell_type": "code",
   "execution_count": 28,
   "metadata": {
    "collapsed": false
   },
   "outputs": [
    {
     "name": "stdout",
     "output_type": "stream",
     "text": [
      "__dict__: <attribute '__dict__' of 'MyClass' objects>\n",
      "__doc__: None\n",
      "__module__: __main__\n",
      "__weakref__: <attribute '__weakref__' of 'MyClass' objects>\n",
      "x: 5\n",
      "__dict__: <attribute '__dict__' of 'OtherClass' objects>\n",
      "__doc__: None\n",
      "__module__: __main__\n",
      "__weakref__: <attribute '__weakref__' of 'OtherClass' objects>\n",
      "x: 5\n"
     ]
    }
   ],
   "source": [
    "class MyClass(object):\n",
    "    x = 5\n",
    "\n",
    "OtherClass = type(\"OtherClass\", (object, ), {\"x\": 5})\n",
    "\n",
    "for key in sorted(MyClass.__dict__):\n",
    "    print('{}: {}'.format(key, MyClass.__dict__[key]))\n",
    "    \n",
    "for key in sorted(OtherClass.__dict__):\n",
    "    print('{}: {}'.format(key, OtherClass.__dict__[key]))"
   ]
  },
  {
   "cell_type": "code",
   "execution_count": 36,
   "metadata": {
    "collapsed": false
   },
   "outputs": [],
   "source": [
    "class MySubclass(MyClass):\n",
    "    y = 7\n",
    "    def __init__(self):\n",
    "        print(\"instanciation\")\n",
    "        z = super(MySubclass, self)\n",
    "        print(z)"
   ]
  },
  {
   "cell_type": "code",
   "execution_count": 37,
   "metadata": {
    "collapsed": false
   },
   "outputs": [
    {
     "name": "stdout",
     "output_type": "stream",
     "text": [
      "instanciation\n",
      "<super: <class 'MySubclass'>, <MySubclass object>>\n"
     ]
    }
   ],
   "source": [
    "x = MySubclass()"
   ]
  },
  {
   "cell_type": "code",
   "execution_count": null,
   "metadata": {
    "collapsed": true
   },
   "outputs": [],
   "source": []
  }
 ],
 "metadata": {
  "anaconda-cloud": {},
  "kernelspec": {
   "display_name": "Python [conda root]",
   "language": "python",
   "name": "conda-root-py"
  },
  "language_info": {
   "codemirror_mode": {
    "name": "ipython",
    "version": 3
   },
   "file_extension": ".py",
   "mimetype": "text/x-python",
   "name": "python",
   "nbconvert_exporter": "python",
   "pygments_lexer": "ipython3",
   "version": "3.5.2"
  }
 },
 "nbformat": 4,
 "nbformat_minor": 1
}
