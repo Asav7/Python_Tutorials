{
 "cells": [
  {
   "cell_type": "markdown",
   "metadata": {},
   "source": [
    "# 1. Testing in general\n",
    "\n",
    "Based on: \"Ned Batchelder: Getting Started Testing - PyCon 2014\" <br>\n",
    "https://www.youtube.com/watch?v=FxSsnHeWQBY"
   ]
  },
  {
   "cell_type": "markdown",
   "metadata": {},
   "source": [
    "Why test? \n",
    "<ul>\n",
    "    <li>to know if your code works</li>\n",
    "    <li>to save time</li>\n",
    "    <li>helps to write better, more modular code</li>\n",
    "    <li>remove fear, \"it turns fear into boredom\"</li>\n",
    "    <li><b>\"Debugging is hard, testing is easy\"</b></li>\n",
    "</ul>"
   ]
  },
  {
   "cell_type": "markdown",
   "metadata": {},
   "source": [
    "Roadmap:\n",
    "<ul>\n",
    "    <li>growing tests manualy</li>\n",
    "    <li>unittest library</li>\n",
    "    <li>mocks</li>\n",
    "</ul>"
   ]
  },
  {
   "cell_type": "code",
   "execution_count": 1,
   "metadata": {
    "collapsed": true
   },
   "outputs": [],
   "source": [
    "class Portfolio(object):\n",
    "    \"\"\"A simple stock portfolio\"\"\"\n",
    "    def __init__(self):\n",
    "        # stocks is a list of lists:\n",
    "        #   [[name, shares, price], ...]\n",
    "        self.stocks = []\n",
    "\n",
    "    def buy(self, name, shares, price):\n",
    "        \"\"\"Buy `name`: `shares` shares at `price`.\"\"\"\n",
    "        self.stocks.append([name, shares, price])\n",
    "\n",
    "    def cost(self):\n",
    "        \"\"\"What was the total cost of this portfolio?\"\"\"\n",
    "        amt = 0.0\n",
    "        for name, shares, price in self.stocks:\n",
    "            amt += shares * price\n",
    "        return amt"
   ]
  },
  {
   "cell_type": "code",
   "execution_count": 5,
   "metadata": {
    "collapsed": false
   },
   "outputs": [
    {
     "data": {
      "text/plain": [
       "0.0"
      ]
     },
     "execution_count": 5,
     "metadata": {},
     "output_type": "execute_result"
    }
   ],
   "source": [
    "p = Portfolio()\n",
    "p.cost()"
   ]
  },
  {
   "cell_type": "code",
   "execution_count": 6,
   "metadata": {
    "collapsed": false
   },
   "outputs": [
    {
     "data": {
      "text/plain": [
       "300.0"
      ]
     },
     "execution_count": 6,
     "metadata": {},
     "output_type": "execute_result"
    }
   ],
   "source": [
    "p.buy(\"Some_comp\", 100, 3)\n",
    "p.cost()"
   ]
  },
  {
   "cell_type": "code",
   "execution_count": 7,
   "metadata": {
    "collapsed": false
   },
   "outputs": [
    {
     "data": {
      "text/plain": [
       "3824.6"
      ]
     },
     "execution_count": 7,
     "metadata": {},
     "output_type": "execute_result"
    }
   ],
   "source": [
    "p.buy(\"IBM\", 20, 176.23)\n",
    "p.cost()"
   ]
  },
  {
   "cell_type": "markdown",
   "metadata": {},
   "source": [
    "<b>Good: we are testing the code <br>\n",
    "Bad: non repetitive<br>\n",
    "Bad: labor intensive<br>\n",
    "Bad: is it right?</b>"
   ]
  },
  {
   "cell_type": "markdown",
   "metadata": {},
   "source": [
    "-----------------"
   ]
  },
  {
   "cell_type": "markdown",
   "metadata": {},
   "source": [
    "One solution is to create another file like this:"
   ]
  },
  {
   "cell_type": "raw",
   "metadata": {},
   "source": [
    "# porttest1.py\n",
    "from portfolio1 import Portfolio\n",
    "\n",
    "p = Portfolio()\n",
    "print \"Empty portfolio cost: %s\" % p.cost()\n",
    "p.buy(\"IBM\", 100, 176.48)\n",
    "print \"With 100 IBM @ 176.48: %s\" % p.cost()\n",
    "p.buy(\"HPQ\", 100, 36.15)\n",
    "print \"With 100 HPQ @ 36.15: %s\" % p.cost()"
   ]
  },
  {
   "cell_type": "markdown",
   "metadata": {},
   "source": [
    "when run it will produce an output likie this:"
   ]
  },
  {
   "cell_type": "raw",
   "metadata": {},
   "source": [
    "$ python porttest1.py \n",
    "Empty portfolio cost: 0.0 \n",
    "With 100 IBM @ 176.48: 17648.0 \n",
    "With 100 HPQ @ 36.15: 21263.0 "
   ]
  },
  {
   "cell_type": "markdown",
   "metadata": {},
   "source": [
    "<b>Good: we are testing the code <br>\n",
    "Better: repeatable<br>\n",
    "Better: low effort<br>\n",
    "Bad: is it right?</b>"
   ]
  },
  {
   "cell_type": "markdown",
   "metadata": {},
   "source": [
    "-------"
   ]
  },
  {
   "cell_type": "markdown",
   "metadata": {},
   "source": [
    "We can improve our file by displaying expected answers:"
   ]
  },
  {
   "cell_type": "raw",
   "metadata": {},
   "source": [
    "# porttest2.py\n",
    "from portfolio1 import Portfolio\n",
    "\n",
    "p = Portfolio()\n",
    "print \"Empty portfolio cost: %s, should be 0.0\" % p.cost()\n",
    "p.buy(\"IBM\", 100, 176.48)\n",
    "print \"With 100 IBM @ 176.48: %s, should be 17648.0\" % p.cost()\n",
    "p.buy(\"HPQ\", 100, 36.15)\n",
    "print \"With 100 HPQ @ 36.15: %s, should be 21263.0\" % p.cost()"
   ]
  },
  {
   "cell_type": "markdown",
   "metadata": {},
   "source": [
    "which gives us:"
   ]
  },
  {
   "cell_type": "raw",
   "metadata": {},
   "source": [
    "$ python porttest2.py \n",
    "Empty portfolio cost: 0.0, should be 0.0 \n",
    "With 100 IBM @ 176.48: 17648.0, should be 17648.0 \n",
    "With 100 HPQ @ 36.15: 21263.0, should be 21263.0 "
   ]
  },
  {
   "cell_type": "markdown",
   "metadata": {},
   "source": [
    "<b>Good: repeatable with low effort <br>\n",
    "Better: explicit expected results<br>\n",
    "Bad: we have to check results ourselves</b>"
   ]
  },
  {
   "cell_type": "markdown",
   "metadata": {
    "collapsed": true
   },
   "source": [
    "-----"
   ]
  },
  {
   "cell_type": "markdown",
   "metadata": {},
   "source": [
    "Checking results ourselves is still tedious work that we would like to avoid. One way to do it is with the help of 'assert' statements"
   ]
  },
  {
   "cell_type": "raw",
   "metadata": {},
   "source": [
    "p = Portfolio()\n",
    "print \"Empty portfolio cost: %s, should be 0.0\" % p.cost()\n",
    "assert p.cost() == 0.0\n",
    "p.buy(\"IBM\", 100, 176.48)\n",
    "print \"With 100 IBM @ 176.48: %s, should be 17648.0\" % p.cost()\n",
    "assert p.cost() == 17648.0\n",
    "p.buy(\"HPQ\", 100, 36.15)\n",
    "print \"With 100 HPQ @ 36.15: %s, should be 21263.0\" % p.cost()\n",
    "assert p.cost() == 21263.0"
   ]
  },
  {
   "cell_type": "markdown",
   "metadata": {},
   "source": [
    "The output will look like in an example before, but if any of the assertions fail it will raise <b>AssertionError</b>"
   ]
  },
  {
   "cell_type": "markdown",
   "metadata": {},
   "source": [
    "<b>Good: repeatable with low effort <br>\n",
    "Good: explicit expected results<br>\n",
    "Good: results checked automatically<br>\n",
    "Ok: visible failure visible, but sucessful tests clutter output<br>\n",
    "Bad: failure stops tests </b>"
   ]
  },
  {
   "cell_type": "markdown",
   "metadata": {},
   "source": [
    "----------"
   ]
  },
  {
   "cell_type": "markdown",
   "metadata": {},
   "source": [
    "<b>Good tests should be:</b>\n",
    "<ul>\n",
    "    <li><b>automated</b> - that makes them low effort and repeatable</li>\n",
    "    <li><b>fast</b> - makes it more plausible that you will actually run them</li>\n",
    "    <li><b>reliable</b> - you need to believe your tests. If you doubt them, you haven't gained anything by writing them</li>\n",
    "    <li><b>informative</b> - should make it easier to figure out what is broken in your code</li>\n",
    "    <li><b>focused</b> - should exercise as little code as possible. the less code the test runs the more narrowly focused your debugging task is</li>\n",
    "</ul>"
   ]
  },
  {
   "cell_type": "markdown",
   "metadata": {},
   "source": [
    "-------"
   ]
  },
  {
   "cell_type": "markdown",
   "metadata": {},
   "source": [
    "# 2. unittest"
   ]
  },
  {
   "cell_type": "markdown",
   "metadata": {},
   "source": [
    "<ul>\n",
    "<li>unittest is a module in Python Standard Library</li>\n",
    "<li>it's the infrastructure for well-structured tests - it is based on the same patterns that other languages testing modules are built on</li>\n",
    "</ul>"
   ]
  },
  {
   "cell_type": "markdown",
   "metadata": {},
   "source": [
    "Here is an example of unit test:"
   ]
  },
  {
   "cell_type": "raw",
   "metadata": {},
   "source": [
    "# test_port1.py\n",
    "\n",
    "import unittest\n",
    "from portfolio1 import Portfolio\n",
    "\n",
    "class PortfolioTest(unittest.TestCase):\n",
    "    def test_buy_one_stock(self):\n",
    "        p = Portfolio()\n",
    "        p.buy(\"IBM\", 100, 176.48)\n",
    "        assert p.cost() == 17648.0"
   ]
  },
  {
   "cell_type": "markdown",
   "metadata": {},
   "source": [
    "And to run it we type:"
   ]
  },
  {
   "cell_type": "raw",
   "metadata": {},
   "source": [
    "$ python -m unittest test_port1 "
   ]
  },
  {
   "cell_type": "markdown",
   "metadata": {},
   "source": [
    "\"python -m\" means that instead of running the python code in the file I'm going to name, you are goring to run python code in the module I'm going to name. <br> We run it and it produces following output:"
   ]
  },
  {
   "cell_type": "raw",
   "metadata": {},
   "source": [
    ". \n",
    "------------------------------------------------------------ \n",
    "Ran 1 test in 0.000s \n",
    "\n",
    "OK "
   ]
  },
  {
   "cell_type": "markdown",
   "metadata": {},
   "source": [
    "What happens behind the scenes:"
   ]
  },
  {
   "cell_type": "raw",
   "metadata": {},
   "source": [
    "#unittest runs the tests as if I had written:\n",
    "testcase = PortfolioTest()\n",
    "try:\n",
    "    testcase.test_buy_one_stock()\n",
    "except AssertionError:\n",
    "    [record failure]\n",
    "else:\n",
    "    [record success]"
   ]
  },
  {
   "cell_type": "markdown",
   "metadata": {},
   "source": [
    "Let's expand our unit test:"
   ]
  },
  {
   "cell_type": "raw",
   "metadata": {},
   "source": [
    "import unittest\n",
    "from portfolio1 import Portfolio\n",
    "\n",
    "class PortfolioTest(unittest.TestCase):\n",
    "    def test_empty(self):\n",
    "        p = Portfolio()\n",
    "        assert p.cost() == 0.0\n",
    "    \n",
    "    def test_buy_one_stock(self):\n",
    "        p = Portfolio()\n",
    "        p.buy(\"IBM\", 100, 176.48)\n",
    "        assert p.cost() == 17648.0\n",
    "        \n",
    "    def test_buy_two_stocks(self):\n",
    "        p = Portfolio()\n",
    "        p.buy(\"IBM\", 100, 176.48)\n",
    "        p.buy(\"HPQ\", 100, 36.15)\n",
    "        assert p.cost() == 21263.0"
   ]
  },
  {
   "cell_type": "markdown",
   "metadata": {},
   "source": [
    "Runing the tests returns dot for every test that passed:"
   ]
  },
  {
   "cell_type": "raw",
   "metadata": {},
   "source": [
    "$ python -m unittest test_port2 \n",
    "... \n",
    "------------------------------------------------------------ \n",
    "Ran 3 tests in 0.000s \n",
    "\n",
    "OK "
   ]
  },
  {
   "cell_type": "markdown",
   "metadata": {},
   "source": [
    "what happens under the hood:"
   ]
  },
  {
   "cell_type": "raw",
   "metadata": {},
   "source": [
    "#unittest runs the tests as if I had written:\n",
    "testcase = PortfolioTest()\n",
    "try:\n",
    "    testcase.test_empty()\n",
    "except AssertionError:\n",
    "    [record failure]\n",
    "else:\n",
    "    [record success]\n",
    "    \n",
    "testcase = PortfolioTest()\n",
    "try:\n",
    "    testcase.test_buy_one_stock()\n",
    "except AssertionError:\n",
    "    [record failure]\n",
    "else:\n",
    "    [record success]\n",
    "    \n",
    "testcase = PortfolioTest()\n",
    "try:\n",
    "    testcase.test_buy_two_stocks()\n",
    "except AssertionError:\n",
    "    [record failure]\n",
    "else:\n",
    "    [record success]"
   ]
  },
  {
   "cell_type": "markdown",
   "metadata": {},
   "source": [
    "What is worth to notice is that it creates new testcase object for every test."
   ]
  },
  {
   "cell_type": "markdown",
   "metadata": {},
   "source": [
    "Test isolation - making sure that every test is independent of every other test. Failure doesn't stop next tests"
   ]
  },
  {
   "cell_type": "markdown",
   "metadata": {},
   "source": [
    "### What failure looks like in unittest"
   ]
  },
  {
   "cell_type": "raw",
   "metadata": {},
   "source": [
    "$ python -m unittest test_port2_broken \n",
    "F.. \n",
    "============================================================ \n",
    "FAIL: test_buy_one_stock (test_port2_broken.PortfolioTest) \n",
    "------------------------------------------------------------ \n",
    "Traceback (most recent call last): \n",
    "  File \"test_port2_broken.py\", line 14, in test_buy_one_stock \n",
    "    assert p.cost() == 17648.0 \n",
    "AssertionError \n",
    "\n",
    "------------------------------------------------------------ \n",
    "Ran 3 tests in 0.000s \n",
    "\n",
    "FAILED (failures=1) "
   ]
  },
  {
   "cell_type": "markdown",
   "metadata": {
    "collapsed": true
   },
   "source": [
    "Instead of a dot you get an \"F\""
   ]
  },
  {
   "cell_type": "markdown",
   "metadata": {},
   "source": [
    "<b>Good: failed test didn't stop the others<br>\n",
    "Bad: what value was returned?</b>"
   ]
  },
  {
   "cell_type": "markdown",
   "metadata": {},
   "source": [
    "to solve this problem unittest.TestCase gives you methods like 'assertEqual()'"
   ]
  },
  {
   "cell_type": "raw",
   "metadata": {},
   "source": [
    "def test_buy_one_stock(self):\n",
    "    p = Portfolio()\n",
    "    p.buy(\"IBM\", 100, 176.48)\n",
    "    self.assertEqual(p.cost(), 17648.0)"
   ]
  },
  {
   "cell_type": "markdown",
   "metadata": {},
   "source": [
    "which outputs more iformative error: "
   ]
  },
  {
   "cell_type": "raw",
   "metadata": {
    "collapsed": true
   },
   "source": [
    "AssertionError: 17000.0 != 17648.0"
   ]
  },
  {
   "cell_type": "markdown",
   "metadata": {},
   "source": [
    "<br>\n",
    "From Documentation (https://docs.python.org/3/library/unittest.html):\n",
    "\n",
    "The TestCase class provides several assert methods to check for and report failures. The following table lists the most commonly used methods (see the tables below for more assert methods):\n",
    "<br>\n",
    "\n",
    "<table border=\"1\" class=\"docutils\" width=100%>\n",
    "    <colgroup>\n",
    "    <col width=\"48%\" />\n",
    "    <col width=\"34%\" />\n",
    "    <col width=\"18%\" />\n",
    "    </colgroup>\n",
    "    <thead valign=\"bottom\">\n",
    "    <tr class=\"row-odd\"><th class=\"head\">Method</th>\n",
    "    <th class=\"head\">Checks that</th>\n",
    "    <th class=\"head\">New in</th>\n",
    "    </tr>\n",
    "    </thead>\n",
    "    <tbody valign=\"top\">\n",
    "    <tr class=\"row-even\"><td><a class=\"reference internal\" href=\"#unittest.TestCase.assertEqual\" title=\"unittest.TestCase.assertEqual\"><code class=\"xref py py-meth docutils literal\"><span class=\"pre\">assertEqual(a,</span> <span class=\"pre\">b)</span></code></a></td>\n",
    "    <td><code class=\"docutils literal\"><span class=\"pre\">a</span> <span class=\"pre\">==</span> <span class=\"pre\">b</span></code></td>\n",
    "    <td>&#160;</td>\n",
    "    </tr>\n",
    "    <tr class=\"row-odd\"><td><a class=\"reference internal\" href=\"#unittest.TestCase.assertNotEqual\" title=\"unittest.TestCase.assertNotEqual\"><code class=\"xref py py-meth docutils literal\"><span class=\"pre\">assertNotEqual(a,</span> <span class=\"pre\">b)</span></code></a></td>\n",
    "    <td><code class=\"docutils literal\"><span class=\"pre\">a</span> <span class=\"pre\">!=</span> <span class=\"pre\">b</span></code></td>\n",
    "    <td>&#160;</td>\n",
    "    </tr>\n",
    "    <tr class=\"row-even\"><td><a class=\"reference internal\" href=\"#unittest.TestCase.assertTrue\" title=\"unittest.TestCase.assertTrue\"><code class=\"xref py py-meth docutils literal\"><span class=\"pre\">assertTrue(x)</span></code></a></td>\n",
    "    <td><code class=\"docutils literal\"><span class=\"pre\">bool(x)</span> <span class=\"pre\">is</span> <span class=\"pre\">True</span></code></td>\n",
    "    <td>&#160;</td>\n",
    "    </tr>\n",
    "    <tr class=\"row-odd\"><td><a class=\"reference internal\" href=\"#unittest.TestCase.assertFalse\" title=\"unittest.TestCase.assertFalse\"><code class=\"xref py py-meth docutils literal\"><span class=\"pre\">assertFalse(x)</span></code></a></td>\n",
    "    <td><code class=\"docutils literal\"><span class=\"pre\">bool(x)</span> <span class=\"pre\">is</span> <span class=\"pre\">False</span></code></td>\n",
    "    <td>&#160;</td>\n",
    "    </tr>\n",
    "    <tr class=\"row-even\"><td><a class=\"reference internal\" href=\"#unittest.TestCase.assertIs\" title=\"unittest.TestCase.assertIs\"><code class=\"xref py py-meth docutils literal\"><span class=\"pre\">assertIs(a,</span> <span class=\"pre\">b)</span></code></a></td>\n",
    "    <td><code class=\"docutils literal\"><span class=\"pre\">a</span> <span class=\"pre\">is</span> <span class=\"pre\">b</span></code></td>\n",
    "    <td>3.1</td>\n",
    "    </tr>\n",
    "    <tr class=\"row-odd\"><td><a class=\"reference internal\" href=\"#unittest.TestCase.assertIsNot\" title=\"unittest.TestCase.assertIsNot\"><code class=\"xref py py-meth docutils literal\"><span class=\"pre\">assertIsNot(a,</span> <span class=\"pre\">b)</span></code></a></td>\n",
    "    <td><code class=\"docutils literal\"><span class=\"pre\">a</span> <span class=\"pre\">is</span> <span class=\"pre\">not</span> <span class=\"pre\">b</span></code></td>\n",
    "    <td>3.1</td>\n",
    "    </tr>\n",
    "    <tr class=\"row-even\"><td><a class=\"reference internal\" href=\"#unittest.TestCase.assertIsNone\" title=\"unittest.TestCase.assertIsNone\"><code class=\"xref py py-meth docutils literal\"><span class=\"pre\">assertIsNone(x)</span></code></a></td>\n",
    "    <td><code class=\"docutils literal\"><span class=\"pre\">x</span> <span class=\"pre\">is</span> <span class=\"pre\">None</span></code></td>\n",
    "    <td>3.1</td>\n",
    "    </tr>\n",
    "    <tr class=\"row-odd\"><td><a class=\"reference internal\" href=\"#unittest.TestCase.assertIsNotNone\" title=\"unittest.TestCase.assertIsNotNone\"><code class=\"xref py py-meth docutils literal\"><span class=\"pre\">assertIsNotNone(x)</span></code></a></td>\n",
    "    <td><code class=\"docutils literal\"><span class=\"pre\">x</span> <span class=\"pre\">is</span> <span class=\"pre\">not</span> <span class=\"pre\">None</span></code></td>\n",
    "    <td>3.1</td>\n",
    "    </tr>\n",
    "    <tr class=\"row-even\"><td><a class=\"reference internal\" href=\"#unittest.TestCase.assertIn\" title=\"unittest.TestCase.assertIn\"><code class=\"xref py py-meth docutils literal\"><span class=\"pre\">assertIn(a,</span> <span class=\"pre\">b)</span></code></a></td>\n",
    "    <td><code class=\"docutils literal\"><span class=\"pre\">a</span> <span class=\"pre\">in</span> <span class=\"pre\">b</span></code></td>\n",
    "    <td>3.1</td>\n",
    "    </tr>\n",
    "    <tr class=\"row-odd\"><td><a class=\"reference internal\" href=\"#unittest.TestCase.assertNotIn\" title=\"unittest.TestCase.assertNotIn\"><code class=\"xref py py-meth docutils literal\"><span class=\"pre\">assertNotIn(a,</span> <span class=\"pre\">b)</span></code></a></td>\n",
    "    <td><code class=\"docutils literal\"><span class=\"pre\">a</span> <span class=\"pre\">not</span> <span class=\"pre\">in</span> <span class=\"pre\">b</span></code></td>\n",
    "    <td>3.1</td>\n",
    "    </tr>\n",
    "    <tr class=\"row-even\"><td><a class=\"reference internal\" href=\"#unittest.TestCase.assertIsInstance\" title=\"unittest.TestCase.assertIsInstance\"><code class=\"xref py py-meth docutils literal\"><span class=\"pre\">assertIsInstance(a,</span> <span class=\"pre\">b)</span></code></a></td>\n",
    "    <td><code class=\"docutils literal\"><span class=\"pre\">isinstance(a,</span> <span class=\"pre\">b)</span></code></td>\n",
    "    <td>3.2</td>\n",
    "    </tr>\n",
    "    <tr class=\"row-odd\"><td><a class=\"reference internal\" href=\"#unittest.TestCase.assertNotIsInstance\" title=\"unittest.TestCase.assertNotIsInstance\"><code class=\"xref py py-meth docutils literal\"><span class=\"pre\">assertNotIsInstance(a,</span> <span class=\"pre\">b)</span></code></a></td>\n",
    "    <td><code class=\"docutils literal\"><span class=\"pre\">not</span> <span class=\"pre\">isinstance(a,</span> <span class=\"pre\">b)</span></code></td>\n",
    "    <td>3.2</td>\n",
    "    </tr>\n",
    "    </tbody>\n",
    "</table>\n",
    "<br>\n",
    "\n",
    "<p>It is also possible to check the production of exceptions, warnings, and\n",
    "log messages using the following methods:</p>\n",
    "<table border=\"1\" class=\"docutils\">\n",
    "<colgroup>\n",
    "<col width=\"53%\" />\n",
    "<col width=\"36%\" />\n",
    "<col width=\"11%\" />\n",
    "</colgroup>\n",
    "<thead valign=\"bottom\">\n",
    "<tr class=\"row-odd\"><th class=\"head\">Method</th>\n",
    "<th class=\"head\">Checks that</th>\n",
    "<th class=\"head\">New in</th>\n",
    "</tr>\n",
    "</thead>\n",
    "<tbody valign=\"top\">\n",
    "<tr class=\"row-even\"><td><a class=\"reference internal\" href=\"#unittest.TestCase.assertRaises\" title=\"unittest.TestCase.assertRaises\"><code class=\"xref py py-meth docutils literal\"><span class=\"pre\">assertRaises(exc,</span> <span class=\"pre\">fun,</span> <span class=\"pre\">*args,</span> <span class=\"pre\">**kwds)</span></code></a></td>\n",
    "<td><code class=\"docutils literal\"><span class=\"pre\">fun(*args,</span> <span class=\"pre\">**kwds)</span></code> raises <em>exc</em></td>\n",
    "<td>&#160;</td>\n",
    "</tr>\n",
    "<tr class=\"row-odd\"><td><a class=\"reference internal\" href=\"#unittest.TestCase.assertRaisesRegex\" title=\"unittest.TestCase.assertRaisesRegex\"><code class=\"xref py py-meth docutils literal\"><span class=\"pre\">assertRaisesRegex(exc,</span> <span class=\"pre\">r,</span> <span class=\"pre\">fun,</span> <span class=\"pre\">*args,</span> <span class=\"pre\">**kwds)</span></code></a></td>\n",
    "<td><code class=\"docutils literal\"><span class=\"pre\">fun(*args,</span> <span class=\"pre\">**kwds)</span></code> raises <em>exc</em>\n",
    "and the message matches regex <em>r</em></td>\n",
    "<td>3.1</td>\n",
    "</tr>\n",
    "<tr class=\"row-even\"><td><a class=\"reference internal\" href=\"#unittest.TestCase.assertWarns\" title=\"unittest.TestCase.assertWarns\"><code class=\"xref py py-meth docutils literal\"><span class=\"pre\">assertWarns(warn,</span> <span class=\"pre\">fun,</span> <span class=\"pre\">*args,</span> <span class=\"pre\">**kwds)</span></code></a></td>\n",
    "<td><code class=\"docutils literal\"><span class=\"pre\">fun(*args,</span> <span class=\"pre\">**kwds)</span></code> raises <em>warn</em></td>\n",
    "<td>3.2</td>\n",
    "</tr>\n",
    "<tr class=\"row-odd\"><td><a class=\"reference internal\" href=\"#unittest.TestCase.assertWarnsRegex\" title=\"unittest.TestCase.assertWarnsRegex\"><code class=\"xref py py-meth docutils literal\"><span class=\"pre\">assertWarnsRegex(warn,</span> <span class=\"pre\">r,</span> <span class=\"pre\">fun,</span> <span class=\"pre\">*args,</span> <span class=\"pre\">**kwds)</span></code></a></td>\n",
    "<td><code class=\"docutils literal\"><span class=\"pre\">fun(*args,</span> <span class=\"pre\">**kwds)</span></code> raises <em>warn</em>\n",
    "and the message matches regex <em>r</em></td>\n",
    "<td>3.2</td>\n",
    "</tr>\n",
    "<tr class=\"row-even\"><td><a class=\"reference internal\" href=\"#unittest.TestCase.assertLogs\" title=\"unittest.TestCase.assertLogs\"><code class=\"xref py py-meth docutils literal\"><span class=\"pre\">assertLogs(logger,</span> <span class=\"pre\">level)</span></code></a></td>\n",
    "<td>The <code class=\"docutils literal\"><span class=\"pre\">with</span></code> block logs on <em>logger</em>\n",
    "with minimum <em>level</em></td>\n",
    "<td>3.4</td>\n",
    "</tr>\n",
    "</tbody>\n",
    "</table>\n",
    "<br>\n",
    "<p>There are also other methods used to perform more specific checks, such as:</p>\n",
    "<table border=\"1\" class=\"docutils\">\n",
    "<colgroup>\n",
    "<col width=\"46%\" />\n",
    "<col width=\"38%\" />\n",
    "<col width=\"16%\" />\n",
    "</colgroup>\n",
    "<thead valign=\"bottom\">\n",
    "<tr class=\"row-odd\"><th class=\"head\">Method</th>\n",
    "<th class=\"head\">Checks that</th>\n",
    "<th class=\"head\">New in</th>\n",
    "</tr>\n",
    "</thead>\n",
    "<tbody valign=\"top\">\n",
    "<tr class=\"row-even\"><td><a class=\"reference internal\" href=\"#unittest.TestCase.assertAlmostEqual\" title=\"unittest.TestCase.assertAlmostEqual\"><code class=\"xref py py-meth docutils literal\"><span class=\"pre\">assertAlmostEqual(a,</span> <span class=\"pre\">b)</span></code></a></td>\n",
    "<td><code class=\"docutils literal\"><span class=\"pre\">round(a-b,</span> <span class=\"pre\">7)</span> <span class=\"pre\">==</span> <span class=\"pre\">0</span></code></td>\n",
    "<td>&#160;</td>\n",
    "</tr>\n",
    "<tr class=\"row-odd\"><td><a class=\"reference internal\" href=\"#unittest.TestCase.assertNotAlmostEqual\" title=\"unittest.TestCase.assertNotAlmostEqual\"><code class=\"xref py py-meth docutils literal\"><span class=\"pre\">assertNotAlmostEqual(a,</span> <span class=\"pre\">b)</span></code></a></td>\n",
    "<td><code class=\"docutils literal\"><span class=\"pre\">round(a-b,</span> <span class=\"pre\">7)</span> <span class=\"pre\">!=</span> <span class=\"pre\">0</span></code></td>\n",
    "<td>&#160;</td>\n",
    "</tr>\n",
    "<tr class=\"row-even\"><td><a class=\"reference internal\" href=\"#unittest.TestCase.assertGreater\" title=\"unittest.TestCase.assertGreater\"><code class=\"xref py py-meth docutils literal\"><span class=\"pre\">assertGreater(a,</span> <span class=\"pre\">b)</span></code></a></td>\n",
    "<td><code class=\"docutils literal\"><span class=\"pre\">a</span> <span class=\"pre\">&gt;</span> <span class=\"pre\">b</span></code></td>\n",
    "<td>3.1</td>\n",
    "</tr>\n",
    "<tr class=\"row-odd\"><td><a class=\"reference internal\" href=\"#unittest.TestCase.assertGreaterEqual\" title=\"unittest.TestCase.assertGreaterEqual\"><code class=\"xref py py-meth docutils literal\"><span class=\"pre\">assertGreaterEqual(a,</span> <span class=\"pre\">b)</span></code></a></td>\n",
    "<td><code class=\"docutils literal\"><span class=\"pre\">a</span> <span class=\"pre\">&gt;=</span> <span class=\"pre\">b</span></code></td>\n",
    "<td>3.1</td>\n",
    "</tr>\n",
    "<tr class=\"row-even\"><td><a class=\"reference internal\" href=\"#unittest.TestCase.assertLess\" title=\"unittest.TestCase.assertLess\"><code class=\"xref py py-meth docutils literal\"><span class=\"pre\">assertLess(a,</span> <span class=\"pre\">b)</span></code></a></td>\n",
    "<td><code class=\"docutils literal\"><span class=\"pre\">a</span> <span class=\"pre\">&lt;</span> <span class=\"pre\">b</span></code></td>\n",
    "<td>3.1</td>\n",
    "</tr>\n",
    "<tr class=\"row-odd\"><td><a class=\"reference internal\" href=\"#unittest.TestCase.assertLessEqual\" title=\"unittest.TestCase.assertLessEqual\"><code class=\"xref py py-meth docutils literal\"><span class=\"pre\">assertLessEqual(a,</span> <span class=\"pre\">b)</span></code></a></td>\n",
    "<td><code class=\"docutils literal\"><span class=\"pre\">a</span> <span class=\"pre\">&lt;=</span> <span class=\"pre\">b</span></code></td>\n",
    "<td>3.1</td>\n",
    "</tr>\n",
    "<tr class=\"row-even\"><td><a class=\"reference internal\" href=\"#unittest.TestCase.assertRegex\" title=\"unittest.TestCase.assertRegex\"><code class=\"xref py py-meth docutils literal\"><span class=\"pre\">assertRegex(s,</span> <span class=\"pre\">r)</span></code></a></td>\n",
    "<td><code class=\"docutils literal\"><span class=\"pre\">r.search(s)</span></code></td>\n",
    "<td>3.1</td>\n",
    "</tr>\n",
    "<tr class=\"row-odd\"><td><a class=\"reference internal\" href=\"#unittest.TestCase.assertNotRegex\" title=\"unittest.TestCase.assertNotRegex\"><code class=\"xref py py-meth docutils literal\"><span class=\"pre\">assertNotRegex(s,</span> <span class=\"pre\">r)</span></code></a></td>\n",
    "<td><code class=\"docutils literal\"><span class=\"pre\">not</span> <span class=\"pre\">r.search(s)</span></code></td>\n",
    "<td>3.2</td>\n",
    "</tr>\n",
    "<tr class=\"row-even\"><td><a class=\"reference internal\" href=\"#unittest.TestCase.assertCountEqual\" title=\"unittest.TestCase.assertCountEqual\"><code class=\"xref py py-meth docutils literal\"><span class=\"pre\">assertCountEqual(a,</span> <span class=\"pre\">b)</span></code></a></td>\n",
    "<td><em>a</em> and <em>b</em> have the same\n",
    "elements in the same number,\n",
    "regardless of their order</td>\n",
    "<td>3.2</td>\n",
    "</tr>\n",
    "</tbody>\n",
    "</table>\n",
    "<br>"
   ]
  },
  {
   "cell_type": "markdown",
   "metadata": {},
   "source": [
    "#### Third possible outcome - \"E\""
   ]
  },
  {
   "cell_type": "raw",
   "metadata": {},
   "source": [
    "$ python -m unittest test_port3_broken2 \n",
    "E.. \n",
    "============================================================ \n",
    "ERROR: test_buy_one_stock (test_port3_broken2.PortfolioTest) \n",
    "------------------------------------------------------------ \n",
    "Traceback (most recent call last): \n",
    "  File \"test_port3_broken2.py\", line 13, in test_buy_one_stock \n",
    "    p.buyXX(\"IBM\", 100, 176.48) \n",
    "AttributeError: 'Portfolio' object has no attribute 'buyXX' \n",
    "\n",
    "------------------------------------------------------------ \n",
    "Ran 3 tests in 0.000s \n",
    "\n",
    "FAILED (errors=1) "
   ]
  },
  {
   "cell_type": "markdown",
   "metadata": {},
   "source": [
    "Error (E) outcome happens when the test raised an exception other than AssertionError. Good test should eather pass or fail on an assertion. If error happens you should fix the test."
   ]
  },
  {
   "cell_type": "markdown",
   "metadata": {},
   "source": [
    "### Pro tip: Your own base class"
   ]
  },
  {
   "cell_type": "code",
   "execution_count": 3,
   "metadata": {
    "collapsed": true
   },
   "outputs": [],
   "source": [
    "import unittest\n",
    "class PortfolioTestCase(unittest.TestCase):\n",
    "    \"\"\"Base class for all Portfolio tests.\"\"\"\n",
    "\n",
    "    def assertCostEqual(self, p, cost):\n",
    "        \"\"\"Assert that `p`'s cost is equal to `cost`.\"\"\"\n",
    "        self.assertEqual(p.cost(), cost)\n",
    "\n",
    "\n",
    "class PortfolioTest(PortfolioTestCase):\n",
    "    def test_empty(self):\n",
    "        p = Portfolio()\n",
    "        self.assertCostEqual(p, 0.0)\n",
    "\n",
    "    def test_buy_one_stock(self):\n",
    "        p = Portfolio()\n",
    "        p.buy(\"IBM\", 100, 176.48)\n",
    "        self.assertCostEqual(p, 17648.0)\n",
    "\n",
    "    def test_buy_two_stocks(self):\n",
    "        p = Portfolio()\n",
    "        p.buy(\"IBM\", 100, 176.48)\n",
    "        p.buy(\"HPQ\", 100, 36.15)\n",
    "        self.assertCostEqual(p, 21263.0)"
   ]
  },
  {
   "cell_type": "code",
   "execution_count": null,
   "metadata": {
    "collapsed": true
   },
   "outputs": [],
   "source": []
  }
 ],
 "metadata": {
  "anaconda-cloud": {},
  "kernelspec": {
   "display_name": "Python [conda root]",
   "language": "python",
   "name": "conda-root-py"
  },
  "language_info": {
   "codemirror_mode": {
    "name": "ipython",
    "version": 3
   },
   "file_extension": ".py",
   "mimetype": "text/x-python",
   "name": "python",
   "nbconvert_exporter": "python",
   "pygments_lexer": "ipython3",
   "version": "3.5.2"
  }
 },
 "nbformat": 4,
 "nbformat_minor": 1
}
