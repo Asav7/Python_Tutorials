{
 "cells": [
  {
   "cell_type": "markdown",
   "metadata": {},
   "source": [
    "# Tricky behavior of booleans"
   ]
  },
  {
   "cell_type": "markdown",
   "metadata": {},
   "source": [
    "### 'is' doesn't equal to '=='"
   ]
  },
  {
   "cell_type": "code",
   "execution_count": 1,
   "metadata": {
    "collapsed": false
   },
   "outputs": [
    {
     "name": "stdout",
     "output_type": "stream",
     "text": [
      "True\n",
      "False\n"
     ]
    }
   ],
   "source": [
    "print(1 == True)\n",
    "print(1 is True)"
   ]
  },
  {
   "cell_type": "markdown",
   "metadata": {},
   "source": [
    "### Beware of 'is not'"
   ]
  },
  {
   "cell_type": "code",
   "execution_count": 11,
   "metadata": {
    "collapsed": false
   },
   "outputs": [
    {
     "name": "stdout",
     "output_type": "stream",
     "text": [
      "True\n",
      "True\n",
      "True\n",
      "False\n"
     ]
    }
   ],
   "source": [
    "print(not True is False)\n",
    "print(False is not True)\n",
    "print([] is not True)\n",
    "print([] is False)"
   ]
  },
  {
   "cell_type": "markdown",
   "metadata": {},
   "source": [
    "That's odd. If something is 'not True' than shouldn't it be 'False'?\n",
    "It should, but we didn't test if something is 'not True'."
   ]
  },
  {
   "cell_type": "code",
   "execution_count": 19,
   "metadata": {
    "collapsed": false
   },
   "outputs": [
    {
     "name": "stdout",
     "output_type": "stream",
     "text": [
      "False\n",
      "False\n",
      "------------------\n",
      "True\n",
      "False\n"
     ]
    }
   ],
   "source": [
    "print([] is (not True))\n",
    "print([] is False)\n",
    "print('------------------')\n",
    "print([] is (not True))\n",
    "print([] is not True)"
   ]
  },
  {
   "cell_type": "markdown",
   "metadata": {},
   "source": [
    "Operator 'is not' precedes 'not' in python. <br>\n",
    "<b>A is not B</b> means that \"<b>A is not</b> the same thing as <b>B</b>\", not \"<b>A is</b> the same thing as <b>not B</b>\".<br>\n",
    "(operator precedence: https://docs.python.org/3/reference/expressions.html#operator-precedence)\n",
    "\n",
    "<b>a is b</b> and <b>a is not b</b> test whether two objects are the same thing. It is like:"
   ]
  },
  {
   "cell_type": "code",
   "execution_count": 13,
   "metadata": {
    "collapsed": false
   },
   "outputs": [
    {
     "name": "stdout",
     "output_type": "stream",
     "text": [
      "True\n",
      "False\n"
     ]
    }
   ],
   "source": [
    "print(id([]) != id(True))      # [] is not True\n",
    "print(id([]) == id(not True))  # [] is (not True)"
   ]
  },
  {
   "cell_type": "markdown",
   "metadata": {},
   "source": [
    "<b>'=='</b> precedes <b>'not'</b> so:"
   ]
  },
  {
   "cell_type": "raw",
   "metadata": {},
   "source": [
    "[] == not True  # raises SyntaxError\n",
    "\n",
    "  File \"<ipython-input-18-8b732e0aa38f>\", line 1\n",
    "    [] == not True\n",
    "            ^\n",
    "SyntaxError: invalid syntax"
   ]
  },
  {
   "cell_type": "markdown",
   "metadata": {},
   "source": [
    "because it compares <b>'[ ]'</b> to <b>'not'</b>"
   ]
  },
  {
   "cell_type": "markdown",
   "metadata": {},
   "source": [
    "### Implicit conversion to boolean\n",
    "(based on: https://stackoverflow.com/questions/10222516/why-not-true-true)"
   ]
  },
  {
   "cell_type": "code",
   "execution_count": 2,
   "metadata": {
    "collapsed": false
   },
   "outputs": [
    {
     "data": {
      "text/plain": [
       "False"
      ]
     },
     "execution_count": 2,
     "metadata": {},
     "output_type": "execute_result"
    }
   ],
   "source": [
    "[4, 2] == True"
   ]
  },
  {
   "cell_type": "code",
   "execution_count": 22,
   "metadata": {
    "collapsed": false
   },
   "outputs": [
    {
     "name": "stdout",
     "output_type": "stream",
     "text": [
      "true\n"
     ]
    }
   ],
   "source": [
    "if [4, 2]: print(\"true\")"
   ]
  },
  {
   "cell_type": "markdown",
   "metadata": {},
   "source": [
    "This happens because 'if expression' implicitly tests 'if bool(expression)'"
   ]
  },
  {
   "cell_type": "code",
   "execution_count": 21,
   "metadata": {
    "collapsed": false
   },
   "outputs": [
    {
     "name": "stdout",
     "output_type": "stream",
     "text": [
      "True\n",
      "True\n"
     ]
    }
   ],
   "source": [
    "print(bool([4, 2]) == True)\n",
    "print(bool([4, 2]) is True)"
   ]
  },
  {
   "cell_type": "markdown",
   "metadata": {},
   "source": [
    "### 'Falsey' values\n",
    "(based on: https://stackoverflow.com/questions/12997305/empty-list-boolean-value)\n",
    "\n",
    "boolean check - that is, their boolean value will be False:\n",
    "\n",
    "<ul>\n",
    "<li><code>None</code></li>\n",
    "<li><code>False</code> (obviously)</li>\n",
    "<li>Any empty sequence: <code>''</code>, <code>[]</code>, <code>()</code></li>\n",
    "<li>Any \"zero\" value: <code>0</code>, <code>0.0</code>, etc.</li>\n",
    "<li>Any empty collection: <code>{}</code> (an empty dict)</li>\n",
    "<li>Anything whose <code>len()</code> returns a <code>0</code></li>\n",
    "</ul>\n",
    "\n",
    "These are called \"falsey\" values. Everything else is \"true\". Which can lead to some strange things like:"
   ]
  },
  {
   "cell_type": "markdown",
   "metadata": {},
   "source": [
    "### bool is instance of int in Python"
   ]
  }
 ],
 "metadata": {
  "anaconda-cloud": {},
  "kernelspec": {
   "display_name": "Python [conda root]",
   "language": "python",
   "name": "conda-root-py"
  },
  "language_info": {
   "codemirror_mode": {
    "name": "ipython",
    "version": 3
   },
   "file_extension": ".py",
   "mimetype": "text/x-python",
   "name": "python",
   "nbconvert_exporter": "python",
   "pygments_lexer": "ipython3",
   "version": "3.5.2"
  }
 },
 "nbformat": 4,
 "nbformat_minor": 1
}
