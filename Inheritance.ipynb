{
 "cells": [
  {
   "cell_type": "code",
   "execution_count": 15,
   "metadata": {
    "collapsed": false
   },
   "outputs": [
    {
     "name": "stdout",
     "output_type": "stream",
     "text": [
      "Help on class Developer in module __main__:\n",
      "\n",
      "class Developer(Employee)\n",
      " |  Method resolution order:\n",
      " |      Developer\n",
      " |      Employee\n",
      " |      builtins.object\n",
      " |  \n",
      " |  Methods inherited from Employee:\n",
      " |  \n",
      " |  __init__(self, first, last, pay)\n",
      " |      Initialize self.  See help(type(self)) for accurate signature.\n",
      " |  \n",
      " |  apply_raise(self)\n",
      " |  \n",
      " |  fullname(self)\n",
      " |  \n",
      " |  ----------------------------------------------------------------------\n",
      " |  Data descriptors inherited from Employee:\n",
      " |  \n",
      " |  __dict__\n",
      " |      dictionary for instance variables (if defined)\n",
      " |  \n",
      " |  __weakref__\n",
      " |      list of weak references to the object (if defined)\n",
      " |  \n",
      " |  ----------------------------------------------------------------------\n",
      " |  Data and other attributes inherited from Employee:\n",
      " |  \n",
      " |  raise_amt = 1.04\n",
      "\n"
     ]
    }
   ],
   "source": [
    "class Employee(object):\n",
    "    \n",
    "    raise_amt = 1.04\n",
    "    \n",
    "    def __init__(self, first, last, pay):\n",
    "        self.first = first\n",
    "        self.last = last\n",
    "        self.pay = pay\n",
    "        \n",
    "    def fullname(self):\n",
    "        return '{} {}'.format(self.first, self.last)\n",
    "        \n",
    "    def apply_raise(self):\n",
    "        self.pay = int(self.pay *self.raise_amt)\n",
    "\n",
    "class Developer(Employee):\n",
    "    pass\n",
    "\n",
    "help(Developer)"
   ]
  },
  {
   "cell_type": "code",
   "execution_count": 16,
   "metadata": {
    "collapsed": false
   },
   "outputs": [
    {
     "data": {
      "text/plain": [
       "'John Locke'"
      ]
     },
     "execution_count": 16,
     "metadata": {},
     "output_type": "execute_result"
    }
   ],
   "source": [
    "Developer(\"John\", \"Locke\", 50000).fullname()"
   ]
  },
  {
   "cell_type": "code",
   "execution_count": 17,
   "metadata": {
    "collapsed": false
   },
   "outputs": [],
   "source": [
    "class Developer(Employee):\n",
    "    raise_amt = 1.1\n",
    "    \n",
    "    def __init__(self, first, last, pay, prog_lang):\n",
    "        super().__init__(first, last, pay)\n",
    "        # Employee.__init__(self, first, last, pay)            alternative\n",
    "                "
   ]
  },
  {
   "cell_type": "markdown",
   "metadata": {},
   "source": [
    "### Classmethod as an alternative constructor"
   ]
  },
  {
   "cell_type": "code",
   "execution_count": 24,
   "metadata": {
    "collapsed": false
   },
   "outputs": [
    {
     "data": {
      "text/plain": [
       "Adam - 30 years old"
      ]
     },
     "execution_count": 24,
     "metadata": {},
     "output_type": "execute_result"
    }
   ],
   "source": [
    "class Person(object):\n",
    "    \n",
    "    def __init__(self, name, age):\n",
    "        self.name = name\n",
    "        self.age = age\n",
    "        \n",
    "    def __repr__(self):\n",
    "        return '{0} - {1} years old'.format(self.name, self.age)\n",
    "        \n",
    "    @classmethod\n",
    "    def from_string(cls, string, separator = \"-\"):\n",
    "        name, age = string.split(separator)\n",
    "        return cls(name, age)\n",
    "    \n",
    "Person.from_string(\"Adam-30\")"
   ]
  },
  {
   "cell_type": "markdown",
   "metadata": {},
   "source": [
    "## super()\n",
    "based on 'Super considered super!' by Raymond Hettinger\n"
   ]
  },
  {
   "cell_type": "code",
   "execution_count": 52,
   "metadata": {
    "collapsed": false
   },
   "outputs": [
    {
     "name": "stdout",
     "output_type": "stream",
     "text": [
      "Help on class Victor in module __main__:\n",
      "\n",
      "class Victor(Robert, Rachel)\n",
      " |  Method resolution order:\n",
      " |      Victor\n",
      " |      Robert\n",
      " |      Richard\n",
      " |      Vlad_S\n",
      " |      Leokadie\n",
      " |      Helen\n",
      " |      Vlad_Z\n",
      " |      Stephanie\n",
      " |      Rachel\n",
      " |      John\n",
      " |      John_f\n",
      " |      John_m\n",
      " |      Jessica\n",
      " |      Jessica_f\n",
      " |      Jessica_m\n",
      " |      Adam\n",
      " |      Eve\n",
      " |      builtins.object\n",
      " |  \n",
      " |  Data and other attributes inherited from Richard:\n",
      " |  \n",
      " |  x = 'Richard'\n",
      " |  \n",
      " |  ----------------------------------------------------------------------\n",
      " |  Data descriptors inherited from Adam:\n",
      " |  \n",
      " |  __dict__\n",
      " |      dictionary for instance variables (if defined)\n",
      " |  \n",
      " |  __weakref__\n",
      " |      list of weak references to the object (if defined)\n",
      "\n"
     ]
    },
    {
     "data": {
      "text/plain": [
       "'Vlad_S'"
      ]
     },
     "execution_count": 52,
     "metadata": {},
     "output_type": "execute_result"
    }
   ],
   "source": [
    "class Adam(object): x = \"Adam\"\n",
    "class Eve(object): x = \"Eve\"\n",
    "class Vlad_S(Adam, Eve): x = \"Vlad_S\"\n",
    "class Leokadie(Adam, Eve): x = \"Leokadie\"\n",
    "class Richard(Vlad_S, Leokadie): x = \"Richard\"\n",
    "class Vlad_Z(Adam, Eve): pass\n",
    "class Stephanie(Adam, Eve): pass\n",
    "class Helen(Vlad_Z, Stephanie): pass\n",
    "class Robert(Richard, Helen): pass\n",
    "\n",
    "class John_f(Adam, Eve): pass\n",
    "class John_m(Adam, Eve): pass\n",
    "class Jessica_f(Adam, Eve): pass\n",
    "class Jessica_m(Adam, Eve): pass\n",
    "class John(John_f, John_m): pass\n",
    "class Jessica(Jessica_f, Jessica_m): pass\n",
    "class Rachel(John, Jessica): pass\n",
    "class Victor(Robert, Rachel): pass\n",
    "\n",
    "help(Victor)\n",
    "super(Richard, Victor).x  # this returns \"Vlad_S because he is after Richard in method resolution order for Victor"
   ]
  },
  {
   "cell_type": "code",
   "execution_count": 19,
   "metadata": {
    "collapsed": false
   },
   "outputs": [
    {
     "name": "stdout",
     "output_type": "stream",
     "text": [
      "Getting dough\n",
      "Making pie with insecticide treated wheat dough\n",
      "Adding: Pepperoni\n",
      "Adding: Bell Pepper\n"
     ]
    }
   ],
   "source": [
    "class DoughFactory(object):\n",
    "    \n",
    "    def get_dough(self):\n",
    "        return 'insecticide treated wheat dough'\n",
    "    \n",
    "class Pizza(DoughFactory):\n",
    "    \n",
    "    def order_pizza(self, *toppings):\n",
    "        print('Getting dough')\n",
    "        dough = super().get_dough()  # better than dough = DoughFactory.get_dough() [which doesn't work btw...]\n",
    "        print('Making pie with {}'.format(dough))\n",
    "        for topping in toppings:\n",
    "            print('Adding: {}'.format(topping))\n",
    "            \n",
    "Pizza().order_pizza('Pepperoni', 'Bell Pepper')"
   ]
  },
  {
   "cell_type": "code",
   "execution_count": 21,
   "metadata": {
    "collapsed": false
   },
   "outputs": [
    {
     "name": "stdout",
     "output_type": "stream",
     "text": [
      "Getting dough\n",
      "Making pie with pure untreated wheat dough\n",
      "Adding: Sausage\n",
      "Adding: Mushroom\n"
     ]
    }
   ],
   "source": [
    "class OrganicDoughFactory(DoughFactory):\n",
    "    \n",
    "    def get_dough(self):\n",
    "        return 'pure untreated wheat dough'\n",
    "    \n",
    "class OrganicPizza(Pizza, OrganicDoughFactory):\n",
    "    pass\n",
    "\n",
    "OrganicPizza().order_pizza('Sausage', 'Mushroom')"
   ]
  },
  {
   "cell_type": "code",
   "execution_count": 22,
   "metadata": {
    "collapsed": false
   },
   "outputs": [
    {
     "name": "stdout",
     "output_type": "stream",
     "text": [
      "Help on class OrganicPizza in module __main__:\n",
      "\n",
      "class OrganicPizza(Pizza, OrganicDoughFactory)\n",
      " |  Method resolution order:\n",
      " |      OrganicPizza\n",
      " |      Pizza\n",
      " |      OrganicDoughFactory\n",
      " |      DoughFactory\n",
      " |      builtins.object\n",
      " |  \n",
      " |  Methods inherited from Pizza:\n",
      " |  \n",
      " |  order_pizza(self, *toppings)\n",
      " |  \n",
      " |  ----------------------------------------------------------------------\n",
      " |  Methods inherited from OrganicDoughFactory:\n",
      " |  \n",
      " |  get_dough(self)\n",
      " |  \n",
      " |  ----------------------------------------------------------------------\n",
      " |  Data descriptors inherited from DoughFactory:\n",
      " |  \n",
      " |  __dict__\n",
      " |      dictionary for instance variables (if defined)\n",
      " |  \n",
      " |  __weakref__\n",
      " |      list of weak references to the object (if defined)\n",
      "\n"
     ]
    }
   ],
   "source": [
    "help(OrganicPizza)"
   ]
  },
  {
   "cell_type": "markdown",
   "metadata": {},
   "source": [
    "## ---------------------"
   ]
  },
  {
   "cell_type": "code",
   "execution_count": 31,
   "metadata": {
    "collapsed": false
   },
   "outputs": [
    {
     "name": "stdout",
     "output_type": "stream",
     "text": [
      "Physical Movement! Fetching\n",
      "Physical Movement! Moving Forward.\n",
      "Physical Movement! Moving backward\n",
      "Physical Movement! Moving Forward.\n",
      "Physical Movement! Moving backward\n",
      "Physical Movement! Moving Forward.\n",
      "Physical Movement! Moving backward\n",
      "Physical Movement! Moving Forward.\n",
      "Physical Movement! Moving backward\n",
      "Physical Movement! Moving Forward.\n",
      "Physical Movement! Moving backward\n",
      "Physical Movement! Moving Forward.\n",
      "Physical Movement! Moving backward\n",
      "Physical Movement! Moving Forward.\n",
      "Physical Movement! Moving backward\n",
      "Physical Movement! Moving Forward.\n",
      "Physical Movement! Moving backward\n",
      "Physical Movement! Moving Forward.\n",
      "Physical Movement! Moving backward\n",
      "Physical Movement! Moving Forward.\n",
      "Physical Movement! Moving backward\n",
      "Physical Movement! Replacing.\n"
     ]
    }
   ],
   "source": [
    "class Robot(object):\n",
    "    'Sophisticated class that moves a real robot'\n",
    "    # Don't wear down real robots by running tests!\n",
    "    def fetch(self, tool):\n",
    "        print('Physical Movement! Fetching')\n",
    "    def move_forward(self, tool):\n",
    "        print('Physical Movement! Moving Forward.')\n",
    "    def move_backward(self, tool):\n",
    "        print('Physical Movement! Moving backward')\n",
    "    def replace(self, tool):\n",
    "        print('Physical Movement! Replacing.')\n",
    "        \n",
    "class CleaningRobot(Robot):\n",
    "    'Custom robot that can clean with a given tool'\n",
    "    \n",
    "    def clean(self, tool, times=10):\n",
    "        super().fetch(tool)\n",
    "        for i in range(times):\n",
    "            super().move_forward(tool)\n",
    "            super().move_backward(tool)\n",
    "        super().replace(tool)\n",
    "            \n",
    "CleaningRobot().clean('broom')\n",
    "            "
   ]
  },
  {
   "cell_type": "code",
   "execution_count": 45,
   "metadata": {
    "collapsed": false
   },
   "outputs": [
    {
     "name": "stdout",
     "output_type": "stream",
     "text": [
      "['fetching mop', 'forward mop', 'backward mop', 'forward mop', 'backward mop', 'forward mop', 'backward mop', 'forward mop', 'backward mop', 'forward mop', 'backward mop', 'forward mop', 'backward mop', 'forward mop', 'backward mop', 'forward mop', 'backward mop', 'forward mop', 'backward mop', 'forward mop', 'backward mop', 'replace mop']\n"
     ]
    }
   ],
   "source": [
    "import unittest\n",
    "\n",
    "class MockBot(Robot):\n",
    "    'Simulate a real robot by merely recording tasks'\n",
    "    \n",
    "    def __init__(self):\n",
    "        self.tasks = []\n",
    "        \n",
    "    def fetch(self, tool):\n",
    "        self.tasks.append('fetching {}'.format(tool))\n",
    "    def move_forward(self, tool):\n",
    "        self.tasks.append('forward {}'.format(tool))\n",
    "    def move_backward(self, tool):\n",
    "        self.tasks.append('backward {}'.format(tool))\n",
    "    def replace(self, tool):\n",
    "        self.tasks.append('replace {}'.format(tool))\n",
    "        \n",
    "class MockedCleaningRobot(CleaningRobot, MockBot):\n",
    "    pass\n",
    "\n",
    "class TestCleaningRobot(object):\n",
    "    \n",
    "    def test_clean(self):\n",
    "        t = MockedCleaningRobot()\n",
    "        t.clean('mop')\n",
    "        print(t.tasks)\n",
    "\n",
    "TestCleaningRobot().test_clean()  # code form presentation doesn't work in jupyter"
   ]
  },
  {
   "cell_type": "markdown",
   "metadata": {
    "collapsed": true
   },
   "source": [
    "## ---------------------"
   ]
  },
  {
   "cell_type": "code",
   "execution_count": 32,
   "metadata": {
    "collapsed": false
   },
   "outputs": [
    {
     "data": {
      "text/plain": [
       "OrderedCounter({'a': 5, 'b': 2, 'c': 1, 'd': 1, 'r': 2})"
      ]
     },
     "execution_count": 32,
     "metadata": {},
     "output_type": "execute_result"
    }
   ],
   "source": [
    "from collections import Counter, OrderedDict\n",
    "\n",
    "class OrderedCounter(Counter, OrderedDict):\n",
    "    'Counter that remembers the order elements are firse seen'\n",
    "    \n",
    "    def __repr__(self):\n",
    "        return '{0s}({1r})'.format(self.__class__.__name__, OrderedDict(self))\n",
    "    \n",
    "    def __reduce__(self):  # for pickling (?)\n",
    "        return self.__class__, (OrderedDict(self),)\n",
    "    \n",
    "oc = OrderedCounter('abracadabra')\n",
    "oc"
   ]
  },
  {
   "cell_type": "code",
   "execution_count": null,
   "metadata": {
    "collapsed": true
   },
   "outputs": [],
   "source": []
  }
 ],
 "metadata": {
  "kernelspec": {
   "display_name": "Python [conda root]",
   "language": "python",
   "name": "conda-root-py"
  },
  "language_info": {
   "codemirror_mode": {
    "name": "ipython",
    "version": 3
   },
   "file_extension": ".py",
   "mimetype": "text/x-python",
   "name": "python",
   "nbconvert_exporter": "python",
   "pygments_lexer": "ipython3",
   "version": "3.5.2"
  }
 },
 "nbformat": 4,
 "nbformat_minor": 1
}
